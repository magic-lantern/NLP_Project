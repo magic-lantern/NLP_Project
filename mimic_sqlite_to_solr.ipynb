{
 "cells": [
  {
   "cell_type": "code",
   "execution_count": 36,
   "metadata": {
    "collapsed": false
   },
   "outputs": [
    {
     "name": "stdout",
     "output_type": "stream",
     "text": [
      "Adding row_id 733930 to Solr.\n",
      "Adding row_id 733931 to Solr.\n",
      "Adding row_id 733935 to Solr.\n",
      "Adding row_id 733957 to Solr.\n",
      "Adding row_id 733971 to Solr.\n"
     ]
    }
   ],
   "source": [
    "import sqlite3\n",
    "import os\n",
    "import pysolr\n",
    "\n",
    "sqlitedb = os.path.join(os.path.expanduser('~'),'Box Sync', 'GradSchoolStuff', 'MastersProject', 'mimic3', 'mimic3.sqlite')\n",
    "if not (os.path.exists(sqlitedb)):\n",
    "    print(\"Specified database does not exist\")\n",
    "    sys.exit()\n",
    "\n",
    "connection = sqlite3.connect(sqlitedb)\n",
    "\n",
    "# Connect to Solr instance.\n",
    "solr = pysolr.Solr('http://192.168.99.100:8983/solr/radiology')\n",
    "\n",
    "with connection:\n",
    "    cur = connection.cursor()\n",
    "    recordset = cur.execute(\"select * from noteevents where description like '%CT%' and category = 'Radiology' order by row_id\")\n",
    "    col_names = [cn[0] for cn in cur.description]\n",
    "\n",
    "    for row in recordset:\n",
    "        document = {}\n",
    "        #print('++++++', col_names[idx], ': ', col)\n",
    "        # want row_id, subject_id, hadm_id, description, text\n",
    "        document['id'] = row[col_names.index(\"ROW_ID\")]\n",
    "        document['SUBJECT_ID_i'] = row[col_names.index(\"SUBJECT_ID\")]\n",
    "        # not all reports have a hospital admission id, so this may not be in Solr\n",
    "        document['HADM_ID_i'] = row[col_names.index(\"HADM_ID\")]\n",
    "        # store description as a single string, but also allow for searching parts\n",
    "        document['DESCRIPTION_s'] = row[col_names.index(\"DESCRIPTION\")]\n",
    "        document['DESCRIPTION_t'] = row[col_names.index(\"DESCRIPTION\")]\n",
    "        document['TEXT_t'] = row[col_names.index(\"TEXT\")]\n",
    "        \n",
    "        print('Adding row_id', row[col_names.index(\"ROW_ID\")], 'to Solr.')\n",
    "        solr.add([document])"
   ]
  },
  {
   "cell_type": "code",
   "execution_count": null,
   "metadata": {
    "collapsed": true
   },
   "outputs": [],
   "source": []
  }
 ],
 "metadata": {
  "kernelspec": {
   "display_name": "Python 3",
   "language": "python",
   "name": "python3"
  },
  "language_info": {
   "codemirror_mode": {
    "name": "ipython",
    "version": 3
   },
   "file_extension": ".py",
   "mimetype": "text/x-python",
   "name": "python",
   "nbconvert_exporter": "python",
   "pygments_lexer": "ipython3",
   "version": "3.5.1"
  }
 },
 "nbformat": 4,
 "nbformat_minor": 0
}
