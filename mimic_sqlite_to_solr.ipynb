{
 "cells": [
  {
   "cell_type": "code",
   "execution_count": null,
   "metadata": {
    "collapsed": false
   },
   "outputs": [],
   "source": [
    "import sqlite3\n",
    "import os\n",
    "import pysolr\n",
    "\n",
    "sqlitedb = os.path.join(os.path.expanduser('~'),'Box Sync', 'GradSchoolStuff', 'MastersProject', 'mimic3', 'mimic3.sqlite')\n",
    "if not (os.path.exists(sqlitedb)):\n",
    "    print(\"Specified database does not exist\")\n",
    "    sys.exit()\n",
    "\n",
    "connection = sqlite3.connect(sqlitedb)\n",
    "\n",
    "# Connect to Solr instance.\n",
    "solr = pysolr.Solr('http://192.168.99.100:8983/solr/radiology')\n",
    "\n",
    "with connection:\n",
    "    cur = connection.cursor()\n",
    "    recordset = cur.execute(\"\"\"\n",
    "        SELECT * FROM noteevents\n",
    "        WHERE description LIKE '%CT%'\n",
    "            AND category = 'Radiology'\n",
    "        ORDER BY row_id\"\"\")\n",
    "    col_names = [cn[0] for cn in cur.description]\n",
    "\n",
    "    for row in recordset:\n",
    "        document = {}\n",
    "        #print('++++++', col_names[idx], ': ', col)\n",
    "        # want row_id, subject_id, hadm_id, description, text\n",
    "        document['id'] = row[col_names.index(\"ROW_ID\")]\n",
    "        document['SUBJECT_ID_i'] = row[col_names.index(\"SUBJECT_ID\")]\n",
    "        # not all reports have a hospital admission id, so this may not be in Solr\n",
    "        document['HADM_ID_i'] = row[col_names.index(\"HADM_ID\")]\n",
    "        # store description as a single string, but also allow for searching parts\n",
    "        document['DESCRIPTION_s'] = row[col_names.index(\"DESCRIPTION\")]\n",
    "        document['DESCRIPTION_t'] = row[col_names.index(\"DESCRIPTION\")]\n",
    "        document['TEXT_t'] = row[col_names.index(\"TEXT\")]\n",
    "        \n",
    "        \"\"\"\n",
    "        Out of 108,896 reports, only 4 don't use 'REASON FOR THIS EXAMINATION:' \n",
    "        or 'Reason:' for the reason for exam section. By manual inspection, those 4\n",
    "        reports are not ones related to PE nor PAH.\n",
    "        \n",
    "        Reports can have multiple reason sections. From inspection of the data,\n",
    "          * ^'Reason:' (if it exists) is just a one line section and is a portion of the \n",
    "            'REASON FOR THIS EXAMINATION:' section (if it exists)\n",
    "          * ^'REASON FOR THIS EXAMINATION:' (if it exists) is a multi-line section and the actual\n",
    "            reason starts on the next line. There are 3 cases where this section was repeated and\n",
    "            in some of the repeated locations the reason may partially be on the same line.\n",
    "        \n",
    "        \"\"\"\n",
    "        # need to change these if x in to regex to make sure we're looking at the section that starts a new row.\n",
    "        if 'REASON FOR THIS EXAMINATION:' in row[col_names.index(\"TEXT\")] or 'Reason:' in row[col_names.index(\"TEXT\")]:\n",
    "            found = ''\n",
    "            for line in row[col_names.index(\"TEXT\")].rstrip().split('\\n'):\n",
    "                #if 'REASON FOR THIS EXAMINATION:' in line or 'Reason:' in line:\n",
    "                #if 'Reason:' in line:\n",
    "                if 'REASON FOR THIS EXAMINATION:' in line:\n",
    "                    test = line.replace('REASON FOR THIS EXAMINATION:', '').rstrip()\n",
    "                    if len(test) > 0:\n",
    "                        print(row[col_names.index(\"ROW_ID\")], 'line:', line)\n",
    "                    found = True\n",
    "                    #print(row[col_names.index(\"ROW_ID\")], 'line:', line)\n",
    "                elif found:\n",
    "                    #if ':' not in line and '___________________' not in line and '**************' not in line:\n",
    "                    #print(row[col_names.index(\"ROW_ID\")], 'next line:', line)\n",
    "                    found = False\n",
    "            #print('found reason')\n",
    "            #print('Adding row_id', row[col_names.index(\"ROW_ID\")], 'to Solr.')\n",
    "            #solr.add([document])\n",
    "        else:\n",
    "            print('------------missing for', row[col_names.index(\"ROW_ID\")])\n"
   ]
  },
  {
   "cell_type": "code",
   "execution_count": null,
   "metadata": {
    "collapsed": true
   },
   "outputs": [],
   "source": [
    "#Now need to devide reports into sections...\n",
    "# Or should this be done before importing into Solr???\n",
    "\n",
    "# Right now I think that section segmentation should be done before solr insertion as the section\n",
    "# can be inserted as another data field.\n",
    "# So far, Reason and Impression sections are those that I think most relevant for looking for PE/PAH\n",
    "# of course need to see how many reports actually have an impressions section."
   ]
  }
 ],
 "metadata": {
  "kernelspec": {
   "display_name": "Python 3",
   "language": "python",
   "name": "python3"
  },
  "language_info": {
   "codemirror_mode": {
    "name": "ipython",
    "version": 3
   },
   "file_extension": ".py",
   "mimetype": "text/x-python",
   "name": "python",
   "nbconvert_exporter": "python",
   "pygments_lexer": "ipython3",
   "version": "3.5.1"
  }
 },
 "nbformat": 4,
 "nbformat_minor": 0
}
