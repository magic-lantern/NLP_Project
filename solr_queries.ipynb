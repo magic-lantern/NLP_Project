{
 "cells": [
  {
   "cell_type": "code",
   "execution_count": null,
   "metadata": {
    "collapsed": false
   },
   "outputs": [],
   "source": [
    "import pysolr\n",
    "\n",
    "# Connect to Solr instance.\n",
    "solr = pysolr.Solr('http://192.168.99.100:8983/solr/radiology')\n",
    "\n",
    "# query for pulmonary embolism\n",
    "solrquery = '(REASON_t:pe OR REASON_t:pes OR (REASON_t:pul* AND REASON_t:embo*)) OR (IMPRESSION_t:pul* AND IMPRESSION_t:embo*)'\n",
    "# just impression\n",
    "# solrquery = 'IMPRESSION_t:pul* AND IMPRESSION_t:embo*'\n",
    "# just reason\n",
    "# solrquery = 'REASON_t:pe OR REASON_t:pes OR (REASON_t:pul* AND REASON_t:embo*)'\n",
    "\n",
    "counter = 0\n",
    "missing = 0\n",
    "page = 0\n",
    "rows = 100\n",
    "peList = []\n",
    "while True:\n",
    "    params = {\n",
    "        'rows': rows,\n",
    "        'start': page * rows,\n",
    "        'sort': 'ROW_ID_i asc',\n",
    "    }\n",
    "    results = solr.search(solrquery, **params)\n",
    "    for result in results:\n",
    "        #peList.append(result['id'])\n",
    "        if 'REASON_t' in result.keys():\n",
    "            print(result['id'], 'REASON_t:', result['REASON_t'])\n",
    "            _ = 1\n",
    "        elif 'IMPRESSION_t' in result.keys():\n",
    "            print(result['id'], 'IMPRESSION_t:', result['IMPRESSION_t'])\n",
    "            _ = 1\n",
    "        else:\n",
    "            print(result['id'], '---------------------- no reason nor impression -------------------')\n",
    "            missing += 1\n",
    "        counter += 1\n",
    "\n",
    "    page += 1\n",
    "    if results.hits < (page * rows):\n",
    "        break\n",
    "\n",
    "print('PE Records Found:', counter)\n",
    "print('Missing reason/impression:', missing)\n",
    "'''\n",
    "from random import shuffle\n",
    "x = [[i] for i in peList]\n",
    "shuffle(x)\n",
    "for i in x:\n",
    "    print(i)\n",
    "    '''"
   ]
  },
  {
   "cell_type": "code",
   "execution_count": null,
   "metadata": {
    "collapsed": false
   },
   "outputs": [],
   "source": [
    "import pysolr\n",
    "\n",
    "# Connect to Solr instance.\n",
    "solr = pysolr.Solr('http://192.168.99.100:8983/solr/radiology')\n",
    "\n",
    "# query for PAH\n",
    "solrquery = '{!complexphrase inOrder=true}IMPRESSION_t:\"pul* hype*\" OR IMPRESSION_t:\"pul* art* hyp*\" OR REASON_t:\"pul* htn\" OR REASON_t:\"pul* hype*\" OR REASON_t:\"pul* art* hyp*\" OR REASON_t:pah'\n",
    "# just reason\n",
    "#solrquery = '{!complexphrase inOrder=true}REASON_t:\"pul* htn\" OR REASON_t:\"pul* hype*\" OR REASON_t:\"pul* art* hyp*\" OR REASON_t:pah'\n",
    "# just impression\n",
    "#solrquery = '{!complexphrase inOrder=true}IMPRESSION_t:\"pul* hype*\" OR IMPRESSION_t:\"pul* art* hyp*\"'\n",
    "# this will get items such as pulmonary venous hypertension which is left side rather than right side...\n",
    "### solrquery = 'IMPRESSION_t:\"pulmonary hypertension\"~2'\n",
    "\n",
    "counter = 0\n",
    "missing = 0\n",
    "page = 0\n",
    "rows = 100\n",
    "while True:\n",
    "    params = {\n",
    "        'rows': rows,\n",
    "        'start': page * rows,\n",
    "        'sort': 'ROW_ID_i asc',\n",
    "    }\n",
    "    results = solr.search(solrquery, **params)\n",
    "    for result in results:\n",
    "        if 'REASON_t' in result.keys():\n",
    "            print(result['id'], 'REASON_t:', result['REASON_t'])\n",
    "            _ = 1\n",
    "        elif 'IMPRESSION_t' in result.keys():\n",
    "            print(result['id'], 'IMPRESSION_t:', result['IMPRESSION_t'])\n",
    "            _ = 1\n",
    "        else:\n",
    "            print(result['id'], '---------------------- no reason nor impression -------------------')\n",
    "            missing += 1\n",
    "        counter += 1\n",
    "\n",
    "    page += 1\n",
    "    if results.hits < (page * rows):\n",
    "        break\n",
    "\n",
    "print('PAH Records Found:', counter)\n",
    "print('Missing reason/impression:', missing)"
   ]
  },
  {
   "cell_type": "code",
   "execution_count": null,
   "metadata": {
    "collapsed": true
   },
   "outputs": [],
   "source": []
  }
 ],
 "metadata": {
  "kernelspec": {
   "display_name": "Python 3",
   "language": "python",
   "name": "python3"
  },
  "language_info": {
   "codemirror_mode": {
    "name": "ipython",
    "version": 3
   },
   "file_extension": ".py",
   "mimetype": "text/x-python",
   "name": "python",
   "nbconvert_exporter": "python",
   "pygments_lexer": "ipython3",
   "version": "3.5.1"
  }
 },
 "nbformat": 4,
 "nbformat_minor": 0
}
