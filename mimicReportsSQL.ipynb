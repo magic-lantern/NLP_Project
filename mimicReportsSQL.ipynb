{
 "cells": [
  {
   "cell_type": "code",
   "execution_count": 2,
   "metadata": {
    "collapsed": false
   },
   "outputs": [
    {
     "name": "stdout",
     "output_type": "stream",
     "text": [
      "2.6.0\n"
     ]
    }
   ],
   "source": [
    "import sqlite3\n",
    "import os\n",
    "import sys\n",
    "print(sqlite3.version)"
   ]
  },
  {
   "cell_type": "code",
   "execution_count": 3,
   "metadata": {
    "collapsed": false
   },
   "outputs": [
    {
     "name": "stdout",
     "output_type": "stream",
     "text": [
      "3.4.4\n",
      "('3', '4', '4')\n"
     ]
    }
   ],
   "source": [
    "import platform\n",
    "\n",
    "print(platform.python_version())\n",
    "print(platform.python_version_tuple())"
   ]
  },
  {
   "cell_type": "code",
   "execution_count": 5,
   "metadata": {
    "collapsed": false
   },
   "outputs": [],
   "source": [
    "sqlitedb = os.path.join(os.path.expanduser('~'),'Box Sync', 'GradSchoolStuff', 'MastersProject', 'mimic_radreports.sqlite')\n",
    "if not (os.path.exists(sqlitedb)):\n",
    "    print(\"Specified database does not exist\")\n",
    "    sys.exit()"
   ]
  },
  {
   "cell_type": "code",
   "execution_count": 7,
   "metadata": {
    "collapsed": false
   },
   "outputs": [
    {
     "name": "stdout",
     "output_type": "stream",
     "text": [
      "('table', 'reports', 'reports', 2, 'CREATE TABLE \"reports\" (\\n\"index\" INTEGER,\\n  \"subject_id\" INTEGER,\\n  \"charttime\" TIMESTAMP,\\n  \"text\" TEXT\\n)')\n",
      "('index', 'ix_reports_index', 'reports', 3, 'CREATE INDEX \"ix_reports_index\"ON \"reports\" (\"index\")')\n"
     ]
    }
   ],
   "source": [
    "connection = sqlite3.connect(sqlitedb)\n",
    "with connection:\n",
    "    cursor = connection.cursor()\n",
    "    cursor.execute('select * from sqlite_master')\n",
    "    row = cursor.fetchone()\n",
    "    while row:\n",
    "        print(row)\n",
    "        row = cursor.fetchone()"
   ]
  },
  {
   "cell_type": "code",
   "execution_count": 8,
   "metadata": {
    "collapsed": false
   },
   "outputs": [
    {
     "name": "stdout",
     "output_type": "stream",
     "text": [
      "(0, 'type', 'text', 0, None, 0)\n",
      "(1, 'name', 'text', 0, None, 0)\n",
      "(2, 'tbl_name', 'text', 0, None, 0)\n",
      "(3, 'rootpage', 'integer', 0, None, 0)\n",
      "(4, 'sql', 'text', 0, None, 0)\n"
     ]
    }
   ],
   "source": [
    "# PRAGMA allows you to get metadata about a table\n",
    "with connection:\n",
    "    cur = connection.cursor()    \n",
    "    cur.execute('PRAGMA table_info(sqlite_master)')\n",
    "    data = cur.fetchall()\n",
    "    for d in data:\n",
    "        print(d)"
   ]
  },
  {
   "cell_type": "code",
   "execution_count": 9,
   "metadata": {
    "collapsed": false
   },
   "outputs": [
    {
     "name": "stdout",
     "output_type": "stream",
     "text": [
      "-----------------\n",
      "type:  table\n",
      "name:  reports\n",
      "tbl_name:  reports\n",
      "rootpage:  2\n",
      "sql:  CREATE TABLE \"reports\" (\n",
      "\"index\" INTEGER,\n",
      "  \"subject_id\" INTEGER,\n",
      "  \"charttime\" TIMESTAMP,\n",
      "  \"text\" TEXT\n",
      ")\n",
      "-----------------\n",
      "type:  index\n",
      "name:  ix_reports_index\n",
      "tbl_name:  reports\n",
      "rootpage:  3\n",
      "sql:  CREATE INDEX \"ix_reports_index\"ON \"reports\" (\"index\")\n"
     ]
    }
   ],
   "source": [
    "with connection:\n",
    "    cursor = connection.cursor()\n",
    "    cursor.execute('select * from sqlite_master')\n",
    "    rows = cursor.fetchall()\n",
    "    for row in rows:\n",
    "        print('-----------------')\n",
    "        print('type: ', row[0])\n",
    "        print('name: ', row[1])\n",
    "        print('tbl_name: ', row[2])\n",
    "        print('rootpage: ', row[3])\n",
    "        print('sql: ', row[4])\n",
    "        #for col in row:\n",
    "        #    print(col, end=\" \")\n",
    "        #print('')\n",
    "        "
   ]
  },
  {
   "cell_type": "code",
   "execution_count": 11,
   "metadata": {
    "collapsed": false
   },
   "outputs": [
    {
     "name": "stdout",
     "output_type": "stream",
     "text": [
      "Total rows in REPORTS table:  65884\n"
     ]
    }
   ],
   "source": [
    "with connection:\n",
    "    cur = connection.cursor()\n",
    "    cur.execute('select count(*) from reports')\n",
    "    data = cur.fetchall()\n",
    "    print('Total rows in REPORTS table: ', data[0][0])"
   ]
  },
  {
   "cell_type": "code",
   "execution_count": 12,
   "metadata": {
    "collapsed": false
   },
   "outputs": [
    {
     "name": "stdout",
     "output_type": "stream",
     "text": [
      "++++++ index :  0\n",
      "++++++ subject_id :  56\n",
      "++++++ charttime :  2644-01-17 00:00:00\n",
      "++++++ text :  \n",
      "\n",
      "\n",
      "     DATE: [**2644-1-17**] 10:53 AM\n",
      "     MR HEAD W & W/O CONTRAST; MR CONTRAST GADOLIN                   Clip # [**Clip Number (Radiology) 12569**]\n",
      "     Reason: R ICB and HX brain mets - eval - also with DWI for CVA Do MR\n",
      "      Contrast: MAGNEVIST Amt: 15\n",
      "     ______________________________________________________________________________\n",
      "     UNDERLYING MEDICAL CONDITION:\n",
      "      [**Age over 90 **] year old woman with lung CA- mets to brain                                   \n",
      "     REASON FOR THIS EXAMINATION:\n",
      "      R ICB and HX brain mets - eval - also with DWI for CVA Do MRI both with and \n",
      "      without contast please\n",
      "     ______________________________________________________________________________\n",
      "                                     FINAL REPORT\n",
      "     EXAMINATION:  MRI of the brain with and without gadolinium.\n",
      "     \n",
      "     INDICATION:  [**Age over 90 **] year old woman with lung cancer and right intracranial bleed\n",
      "     and history of brain metastases.  Please evaluate for acute infarct.\n",
      "     \n",
      "     TECHNIQUE:  Multiplanar T1 and T2-weighted images of the brain with gadolinium\n",
      "     according to standard departmental protocol.  No prior study for comparison.\n",
      "     \n",
      "     FINDINGS:  On diffusion-weighted images there is a small area of restricted\n",
      "     diffusion along the falx within the left occipitotemporal lobe.  It is also\n",
      "     bright on FLAIR-weighted images and may represent a subacute infarct. Clinical\n",
      "     correlation is recommended.  On gradient echo images there is a large area of\n",
      "     intraparenchymal hemorrhage within the right parietal lobe and left thalamus\n",
      "     which following administration of gadolinium reveals ring-enhancing lesions.\n",
      "     These are suspicious for hemorrhagic metastases given the patient's history.\n",
      "     Additional ring-enhancing lesions throughout the supra- and infratentorial\n",
      "     compartments are visualized.  There is a moderate amount of peritumoral edema\n",
      "     involving the right parietal lobe lesion in addition to a second right\n",
      "     parietal lesion along the falx high in the vertex.  The other areas of\n",
      "     metastases reveal a minimal amount of peritumoral edema.\n",
      "     \n",
      "\n",
      "\n",
      "----------------- END ROW -----------------\n",
      "++++++ index :  1\n",
      "++++++ subject_id :  56\n",
      "++++++ charttime :  2644-01-17 00:00:00\n",
      "++++++ text :  \n",
      "\n",
      "\n",
      "     DATE: [**2644-1-17**] 10:53 AM\n",
      "     MR HEAD W & W/O CONTRAST; MR CONTRAST GADOLIN                   Clip # [**Clip Number (Radiology) 12569**]\n",
      "     Reason: R ICB and HX brain mets - eval - also with DWI for CVA Do MR\n",
      "      Contrast: MAGNEVIST Amt: 15\n",
      "     ______________________________________________________________________________\n",
      "     UNDERLYING MEDICAL CONDITION:\n",
      "      [**Age over 90 **] year old woman with lung CA- mets to brain                                   \n",
      "     REASON FOR THIS EXAMINATION:\n",
      "      R ICB and HX brain mets - eval - also with DWI for CVA Do MRI both with and \n",
      "      without contast please\n",
      "     ______________________________________________________________________________\n",
      "                                     FINAL REPORT\n",
      "     EXAMINATION:  MRI of the brain with and without gadolinium.\n",
      "     \n",
      "     INDICATION:  [**Age over 90 **] year old woman with lung cancer and right intracranial bleed\n",
      "     and history of brain metastases.  Please evaluate for acute infarct.\n",
      "     \n",
      "     TECHNIQUE:  Multiplanar T1 and T2-weighted images of the brain with gadolinium\n",
      "     according to standard departmental protocol.  No prior study for comparison.\n",
      "     \n",
      "     FINDINGS:  On diffusion-weighted images there is a small area of restricted\n",
      "     diffusion along the falx within the left occipitotemporal lobe.  It is also\n",
      "     bright on FLAIR-weighted images and may represent a subacute infarct. Clinical\n",
      "     correlation is recommended.  On gradient echo images there is a large area of\n",
      "     intraparenchymal hemorrhage within the right parietal lobe and left thalamus\n",
      "     which following administration of gadolinium reveals ring-enhancing lesions.\n",
      "     These are suspicious for hemorrhagic metastases given the patient's history.\n",
      "     Additional ring-enhancing lesions throughout the supra- and infratentorial\n",
      "     compartments are visualized.  There is a moderate amount of peritumoral edema\n",
      "     involving the right parietal lobe lesion in addition to a second right\n",
      "     parietal lesion along the falx high in the vertex.  The other areas of\n",
      "     metastases reveal a minimal amount of peritumoral edema.\n",
      "     \n",
      "\n",
      "\n",
      "----------------- END ROW -----------------\n",
      "++++++ index :  2\n",
      "++++++ subject_id :  56\n",
      "++++++ charttime :  2644-01-17 00:00:00\n",
      "++++++ text :  \n",
      "\n",
      "\n",
      "     DATE: [**2644-1-17**] 10:43 AM\n",
      "     CT HEAD W/O CONTRAST                                            Clip # [**Clip Number (Radiology) 12567**]\n",
      "     Reason: ? stability of bleed                                        \n",
      "     Admitting Diagnosis: HEAD BLEED\n",
      "     ______________________________________________________________________________\n",
      "     UNDERLYING MEDICAL CONDITION:\n",
      "      [**Age over 90 **] year old woman with ? hemorragic mass                                        \n",
      "     REASON FOR THIS EXAMINATION:\n",
      "      ? stability of bleed                                                            \n",
      "     No contraindications for IV contrast\n",
      "     ______________________________________________________________________________\n",
      "                                     FINAL REPORT  (REVISED)\n",
      "     HISTORY:  [**Age over 90 **] year-old woman with a history of metastatic lung cancer to the\n",
      "     brain.  Question hemorrhagic mass.  Question stability of bleed.\n",
      "     \n",
      "     COMPARISON:  Head CT from [**Hospital 12568**] Hospital dated [**2644-1-16**].\n",
      "     \n",
      "     TECHNIQUE:  Noncontrast head CT.\n",
      "     \n",
      "     FINDINGS:  Compared to the prior days study, there is stable appearance of the\n",
      "     right parietal intraparenchymal hemorrhage with surrounding edema.  At the\n",
      "     superior margin of the parenchymal hemorrhage there is a rounded heterogeneous\n",
      "     focus which could represent a metastatic lesion.  An additional 2mm hyperdense\n",
      "     focus, possibly hemorrhage, is noted in the posteromedial margin of the left\n",
      "     thalamus, with surroundng edema.  Low-attenuation foci seen in both basal\n",
      "     ganglia and insular regions are consistent with chronic lacunar infarcts.\n",
      "     There is no shift of midline structures.  The ventricles are stable in\n",
      "     appearance.  The osseous and soft tissue structures are unremarkable.\n",
      "     \n",
      "     IMPRESSION:  Stable appearance of right parietal lobe and left thalamic\n",
      "     hemorrhages, which are concerning for hemorrhagic metastasis in this patient\n",
      "     with known metastatic lung carcinoma to the brain.\n",
      "     \n",
      "     \n",
      "\n",
      "\n",
      "----------------- END ROW -----------------\n",
      "++++++ index :  3\n",
      "++++++ subject_id :  56\n",
      "++++++ charttime :  2644-01-17 00:00:00\n",
      "++++++ text :  \n",
      "\n",
      "\n",
      "     DATE: [**2644-1-17**] 6:37 AM\n",
      "     CHEST (PORTABLE AP)                                             Clip # [**Clip Number (Radiology) 12564**]\n",
      "     Reason: NGT placement                                               \n",
      "     Admitting Diagnosis: HEAD BLEED\n",
      "     ______________________________________________________________________________\n",
      "     UNDERLYING MEDICAL CONDITION:\n",
      "      [**Age over 90 **] year old woman with SAH                                                      \n",
      "     REASON FOR THIS EXAMINATION:\n",
      "      NGT placement                                                                   \n",
      "     ______________________________________________________________________________\n",
      "                                     FINAL REPORT\n",
      "     INDICATION:  A [**Age over 90 **]-year-old woman with SAH.  Nasogastric tube placement.\n",
      "     \n",
      "     TECHNIQUE:  Portable AP chest radiograph.\n",
      "     \n",
      "     There is no previous chest radiograph for comparison.\n",
      "     \n",
      "     FINDINGS:\n",
      "     \n",
      "     The patient is status post median sternotomy.  Scoliosis is noted.  The\n",
      "     patient is rotated.\n",
      "     \n",
      "     Note is made of mild cardiomegaly.  Note is made of rounded opacity overlying\n",
      "     the left hilum, which probably representing aspiration pneumonia; however,\n",
      "     left hilar mass cannot be totally excluded.  Mild CHF is noted.  No\n",
      "     pneumothorax is noted.  Nasogastric tube is coursing down below the left\n",
      "     hemidiaphragm.\n",
      "     \n",
      "     IMPRESSION:\n",
      "     \n",
      "     Cardiomegaly and mild CHF.  Nasogastric tube as described above.  Rounded\n",
      "     opacity overlying the left hilum, which probably representing aspiration\n",
      "     pneumonia; however, left hilar mass cannot be totally excluded.  Please\n",
      "     confirm resolution by repeated chest x-ray after treatment, and if the lesion\n",
      "     persists, please evaluate by CT scan.\n",
      "     \n",
      "     The information is communicated with the referring physician, [**Last Name (NamePattern4) 337**]. [**First Name8 (NamePattern2) 12565**] [**Last Name (NamePattern1) 12566**]\n",
      "     by telephone in the morning of [**2644-1-17**].\n",
      "                                                                           \n",
      "\n",
      "\n",
      "----------------- END ROW -----------------\n",
      "++++++ index :  4\n",
      "++++++ subject_id :  56\n",
      "++++++ charttime :  2644-01-19 00:00:00\n",
      "++++++ text :  \n",
      "\n",
      "\n",
      "     DATE: [**2644-1-19**] 12:09 PM\n",
      "     CHEST (PORTABLE AP)                                             Clip # [**Clip Number (Radiology) 12570**]\n",
      "     Reason: aspiration pna?                                             \n",
      "     Admitting Diagnosis: HEAD BLEED\n",
      "     ______________________________________________________________________________\n",
      "     UNDERLYING MEDICAL CONDITION:\n",
      "       [**Age over 90 **] year old woman with ICH and nmoe with increased secretions                  \n",
      "                                          \n",
      "     REASON FOR THIS EXAMINATION:\n",
      "      aspiration pna?                                                                 \n",
      "     ______________________________________________________________________________\n",
      "                                     FINAL REPORT\n",
      "     This is a portable semierect chest that is dated [**2644-1-19**] compared to\n",
      "     [**2644-1-17**].\n",
      "     \n",
      "     CLINICAL INDICATION:  Question aspiration pneumonia.\n",
      "     \n",
      "     Nasogastric tube terminates below the diaphragm.  The cardiac silhouette\n",
      "     appears enlarged, but stable.  There is a large mass-like opacity overlying\n",
      "     the left hilum, which has slightly lobulated margins.  This measures about 6\n",
      "     cm in greatest diameter.  Bilateral pleural effusions are noted, moderate on\n",
      "     the left and small on the right.  No pneumothorax is identified.\n",
      "     \n",
      "     As compared to the previous study, alveolar opacities adjacent to the\n",
      "     perihilar mass have resolved.\n",
      "     \n",
      "     IMPRESSION:\n",
      "     \n",
      "     Marked improvement in left perihilar alveolar process with residual\n",
      "     well-marginated mass-like opacity, concerning for neoplasm.  This could be\n",
      "     initially confirmed with PA and lateral chest radiographs, but CT may be\n",
      "     considered for more complete characterization.  Findings communicated to\n",
      "     clinical service caring for the patient.\n",
      "                                                                           \n",
      "\n",
      "\n",
      "----------------- END ROW -----------------\n"
     ]
    }
   ],
   "source": [
    "with connection:\n",
    "    cur = connection.cursor()\n",
    "    cur.execute('select * from reports limit 5')\n",
    "    col_names = [cn[0] for cn in cur.description]\n",
    "    rows = cur.fetchall()\n",
    "    for row in rows:\n",
    "        for i,col in enumerate(row):\n",
    "            print('++++++', col_names[i], ': ', col)\n",
    "        print('----------------- END ROW -----------------')"
   ]
  },
  {
   "cell_type": "code",
   "execution_count": null,
   "metadata": {
    "collapsed": true
   },
   "outputs": [],
   "source": []
  }
 ],
 "metadata": {
  "kernelspec": {
   "display_name": "Python 3",
   "language": "python",
   "name": "python3"
  },
  "language_info": {
   "codemirror_mode": {
    "name": "ipython",
    "version": 3
   },
   "file_extension": ".py",
   "mimetype": "text/x-python",
   "name": "python",
   "nbconvert_exporter": "python",
   "pygments_lexer": "ipython3",
   "version": "3.4.4"
  }
 },
 "nbformat": 4,
 "nbformat_minor": 0
}
