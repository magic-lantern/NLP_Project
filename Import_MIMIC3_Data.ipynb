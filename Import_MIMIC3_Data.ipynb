{
 "cells": [
  {
   "cell_type": "markdown",
   "metadata": {},
   "source": [
    "## This notebook is to load tables that appear relevant to my project into 1 sqlite database for ease of querying"
   ]
  },
  {
   "cell_type": "code",
   "execution_count": 24,
   "metadata": {
    "collapsed": false
   },
   "outputs": [],
   "source": [
    "import csv\n",
    "import os\n",
    "import sys\n",
    "import sqlite3\n",
    "\n",
    "\n",
    "# the files to read\n",
    "mimic_files = ('DIAGNOSES_ICD_DATA_TABLE.csv',\n",
    "               'D_ICD_PROCEDURES_DATA_TABLE.csv',\n",
    "               'PATIENTS_DATA_TABLE.csv',\n",
    "               'D_ICD_DIAGNOSES_DATA_TABLE.csv', \n",
    "               'NOTEEVENTS_DATA_TABLE.csv',\n",
    "               'DRGCODES_DATA_TABLE.csv',\n",
    "               'D_CPT_DATA_TABLE.csv',\n",
    "               'CPTEVENTS_DATA_TABLE.csv')"
   ]
  },
  {
   "cell_type": "code",
   "execution_count": 25,
   "metadata": {
    "collapsed": false
   },
   "outputs": [],
   "source": [
    "sqlitedb = os.path.join(os.path.expanduser('~'),'Box Sync', 'GradSchoolStuff', 'MastersProject', 'mimic3', 'mimic3.sqlite')\n",
    "if (os.path.exists(sqlitedb)):\n",
    "    print(\"Database already exists - proceed with caution!\")\n",
    "    sys.exit()"
   ]
  },
  {
   "cell_type": "markdown",
   "metadata": {},
   "source": [
    "These next few cells create the required tables using sql from https://github.com/MIT-LCP/mimic-code/blob/master/buildmimic/postgres/postgres_create_tables.sql"
   ]
  },
  {
   "cell_type": "code",
   "execution_count": 26,
   "metadata": {
    "collapsed": false
   },
   "outputs": [],
   "source": [
    "connection = sqlite3.connect(sqlitedb)\n",
    "with connection:\n",
    "    cursor = connection.cursor()\n",
    "    cursor.executescript('''\n",
    "    drop table if exists DIAGNOSES_ICD;\n",
    "    CREATE TABLE DIAGNOSES_ICD\n",
    "    (   ROW_ID INT NOT NULL,\n",
    "        SUBJECT_ID INT NOT NULL,\n",
    "        HADM_ID INT NOT NULL,\n",
    "        SEQ_NUM INT,\n",
    "        ICD9_CODE VARCHAR(20),\n",
    "        CONSTRAINT diagnosesicd_rowid_pk PRIMARY KEY (ROW_ID)\n",
    "    );''')\n"
   ]
  },
  {
   "cell_type": "code",
   "execution_count": 27,
   "metadata": {
    "collapsed": false
   },
   "outputs": [],
   "source": [
    "connection = sqlite3.connect(sqlitedb)\n",
    "with connection:\n",
    "    cursor = connection.cursor()\n",
    "    cursor.executescript('''\n",
    "    drop table if exists D_ICD_PROCEDURES;\n",
    "    CREATE TABLE D_ICD_PROCEDURES\n",
    "    (   ROW_ID INT NOT NULL,\n",
    "        ICD9_CODE VARCHAR(10) NOT NULL,\n",
    "        SHORT_TITLE VARCHAR(50) NOT NULL,\n",
    "        LONG_TITLE VARCHAR(255) NOT NULL,\n",
    "        CONSTRAINT d_icd_proc_code_unique UNIQUE (ICD9_CODE),\n",
    "        CONSTRAINT d_icd_proc_rowid_pk PRIMARY KEY (ROW_ID)\n",
    "    );''')"
   ]
  },
  {
   "cell_type": "code",
   "execution_count": 28,
   "metadata": {
    "collapsed": true
   },
   "outputs": [],
   "source": [
    "connection = sqlite3.connect(sqlitedb)\n",
    "with connection:\n",
    "    cursor = connection.cursor()\n",
    "    cursor.executescript('''\n",
    "    drop table if exists PATIENTS;\n",
    "    CREATE TABLE PATIENTS\n",
    "    (   ROW_ID INT NOT NULL,\n",
    "        SUBJECT_ID INT NOT NULL,\n",
    "        GENDER VARCHAR(5) NOT NULL,\n",
    "        DOB TIMESTAMP(0) NOT NULL,\n",
    "        DOD TIMESTAMP(0),\n",
    "        DOD_HOSP TIMESTAMP(0),\n",
    "        DOD_SSN TIMESTAMP(0),\n",
    "        EXPIRE_FLAG INT NOT NULL,\n",
    "        CONSTRAINT pat_subid_unique UNIQUE (SUBJECT_ID),\n",
    "        CONSTRAINT pat_rowid_pk PRIMARY KEY (ROW_ID)\n",
    "    );''')"
   ]
  },
  {
   "cell_type": "code",
   "execution_count": 29,
   "metadata": {
    "collapsed": true
   },
   "outputs": [],
   "source": [
    "connection = sqlite3.connect(sqlitedb)\n",
    "with connection:\n",
    "    cursor = connection.cursor()\n",
    "    cursor.executescript('''\n",
    "    drop table if exists D_ICD_DIAGNOSES;\n",
    "    CREATE TABLE D_ICD_DIAGNOSES\n",
    "    (   ROW_ID INT NOT NULL,\n",
    "        ICD9_CODE VARCHAR(10) NOT NULL,\n",
    "        SHORT_TITLE VARCHAR(50) NOT NULL,\n",
    "        LONG_TITLE VARCHAR(255) NOT NULL,\n",
    "        CONSTRAINT d_icd_diag_code_unique UNIQUE (ICD9_CODE),\n",
    "        CONSTRAINT d_icd_diag_rowid_pk PRIMARY KEY (ROW_ID)\n",
    "    );''')"
   ]
  },
  {
   "cell_type": "code",
   "execution_count": 30,
   "metadata": {
    "collapsed": true
   },
   "outputs": [],
   "source": [
    "connection = sqlite3.connect(sqlitedb)\n",
    "with connection:\n",
    "    cursor = connection.cursor()\n",
    "    cursor.executescript('''\n",
    "    drop table if exists NOTEEVENTS;\n",
    "    CREATE TABLE NOTEEVENTS\n",
    "    (   ROW_ID INT NOT NULL,\n",
    "        SUBJECT_ID INT NOT NULL,\n",
    "        HADM_ID INT,\n",
    "        CHARTDATE TIMESTAMP(0),\n",
    "        CHARTTIME TIMESTAMP(0),\n",
    "        STORETIME TIMESTAMP(0),\n",
    "        CATEGORY VARCHAR(50),\n",
    "        DESCRIPTION VARCHAR(255),\n",
    "        CGID INT,\n",
    "        ISERROR CHAR(1),\n",
    "        TEXT TEXT,\n",
    "        CONSTRAINT noteevents_rowid_pk PRIMARY KEY (ROW_ID)\n",
    "    );''')"
   ]
  },
  {
   "cell_type": "code",
   "execution_count": 31,
   "metadata": {
    "collapsed": true
   },
   "outputs": [],
   "source": [
    "connection = sqlite3.connect(sqlitedb)\n",
    "with connection:\n",
    "    cursor = connection.cursor()\n",
    "    cursor.executescript('''\n",
    "    drop table if exists DRGCODES;\n",
    "    CREATE TABLE DRGCODES\n",
    "    (   ROW_ID INT NOT NULL,\n",
    "        SUBJECT_ID INT NOT NULL,\n",
    "        HADM_ID INT NOT NULL,\n",
    "        DRG_TYPE VARCHAR(20) NOT NULL,\n",
    "        DRG_CODE VARCHAR(20) NOT NULL,\n",
    "        DESCRIPTION VARCHAR(255),\n",
    "        DRG_SEVERITY SMALLINT,\n",
    "        DRG_MORTALITY SMALLINT,\n",
    "        CONSTRAINT drg_rowid_pk PRIMARY KEY (ROW_ID)\n",
    "    );''')"
   ]
  },
  {
   "cell_type": "code",
   "execution_count": 32,
   "metadata": {
    "collapsed": true
   },
   "outputs": [],
   "source": [
    "connection = sqlite3.connect(sqlitedb)\n",
    "with connection:\n",
    "    cursor = connection.cursor()\n",
    "    cursor.executescript('''\n",
    "    drop table if exists D_CPT;\n",
    "    CREATE TABLE D_CPT\n",
    "    (   ROW_ID INT NOT NULL,\n",
    "        CATEGORY SMALLINT NOT NULL,\n",
    "        SECTIONRANGE VARCHAR(100) NOT NULL,\n",
    "        SECTIONHEADER VARCHAR(50) NOT NULL,\n",
    "        SUBSECTIONRANGE VARCHAR(100) NOT NULL,\n",
    "        SUBSECTIONHEADER VARCHAR(255) NOT NULL,\n",
    "        CODESUFFIX VARCHAR(5),\n",
    "        MINCODEINSUBSECTION INT NOT NULL,\n",
    "        MAXCODEINSUBSECTION INT NOT NULL,\n",
    "        CONSTRAINT dcpt_ssrange_unique UNIQUE (SUBSECTIONRANGE),\n",
    "        CONSTRAINT dcpt_rowid_pk PRIMARY KEY (ROW_ID)\n",
    "    );''')"
   ]
  },
  {
   "cell_type": "code",
   "execution_count": 33,
   "metadata": {
    "collapsed": true
   },
   "outputs": [],
   "source": [
    "connection = sqlite3.connect(sqlitedb)\n",
    "with connection:\n",
    "    cursor = connection.cursor()\n",
    "    cursor.executescript('''\n",
    "    drop table if exists CPTEVENTS;\n",
    "    CREATE TABLE CPTEVENTS\n",
    "    (   ROW_ID INT NOT NULL,\n",
    "        SUBJECT_ID INT NOT NULL,\n",
    "        HADM_ID INT NOT NULL,\n",
    "        COSTCENTER VARCHAR(10) NOT NULL,\n",
    "        CHARTDATE TIMESTAMP(0),\n",
    "        CPT_CD VARCHAR(10) NOT NULL,\n",
    "        CPT_NUMBER INT,\n",
    "        CPT_SUFFIX VARCHAR(5),\n",
    "        TICKET_ID_SEQ INT,\n",
    "        SECTIONHEADER VARCHAR(50),\n",
    "        SUBSECTIONHEADER VARCHAR(255),\n",
    "        DESCRIPTION VARCHAR(200),\n",
    "        CONSTRAINT cpt_rowid_pk PRIMARY KEY (ROW_ID)\n",
    "    );''')"
   ]
  },
  {
   "cell_type": "code",
   "execution_count": 34,
   "metadata": {
    "collapsed": false
   },
   "outputs": [
    {
     "name": "stdout",
     "output_type": "stream",
     "text": [
      "('table', 'DIAGNOSES_ICD', 'DIAGNOSES_ICD', 2, 'CREATE TABLE DIAGNOSES_ICD\\n    (   ROW_ID INT NOT NULL,\\n        SUBJECT_ID INT NOT NULL,\\n        HADM_ID INT NOT NULL,\\n        SEQ_NUM INT,\\n        ICD9_CODE VARCHAR(20),\\n        CONSTRAINT diagnosesicd_rowid_pk PRIMARY KEY (ROW_ID)\\n    )')\n",
      "('index', 'sqlite_autoindex_DIAGNOSES_ICD_1', 'DIAGNOSES_ICD', 3, None)\n",
      "('table', 'D_ICD_PROCEDURES', 'D_ICD_PROCEDURES', 4, 'CREATE TABLE D_ICD_PROCEDURES\\n    (   ROW_ID INT NOT NULL,\\n        ICD9_CODE VARCHAR(10) NOT NULL,\\n        SHORT_TITLE VARCHAR(50) NOT NULL,\\n        LONG_TITLE VARCHAR(255) NOT NULL,\\n        CONSTRAINT d_icd_proc_code_unique UNIQUE (ICD9_CODE),\\n        CONSTRAINT d_icd_proc_rowid_pk PRIMARY KEY (ROW_ID)\\n    )')\n",
      "('index', 'sqlite_autoindex_D_ICD_PROCEDURES_1', 'D_ICD_PROCEDURES', 5, None)\n",
      "('index', 'sqlite_autoindex_D_ICD_PROCEDURES_2', 'D_ICD_PROCEDURES', 6, None)\n",
      "('table', 'PATIENTS', 'PATIENTS', 7, 'CREATE TABLE PATIENTS\\n    (   ROW_ID INT NOT NULL,\\n        SUBJECT_ID INT NOT NULL,\\n        GENDER VARCHAR(5) NOT NULL,\\n        DOB TIMESTAMP(0) NOT NULL,\\n        DOD TIMESTAMP(0),\\n        DOD_HOSP TIMESTAMP(0),\\n        DOD_SSN TIMESTAMP(0),\\n        EXPIRE_FLAG INT NOT NULL,\\n        CONSTRAINT pat_subid_unique UNIQUE (SUBJECT_ID),\\n        CONSTRAINT pat_rowid_pk PRIMARY KEY (ROW_ID)\\n    )')\n",
      "('index', 'sqlite_autoindex_PATIENTS_1', 'PATIENTS', 8, None)\n",
      "('index', 'sqlite_autoindex_PATIENTS_2', 'PATIENTS', 9, None)\n",
      "('table', 'D_ICD_DIAGNOSES', 'D_ICD_DIAGNOSES', 12, 'CREATE TABLE D_ICD_DIAGNOSES\\n    (   ROW_ID INT NOT NULL,\\n        ICD9_CODE VARCHAR(10) NOT NULL,\\n        SHORT_TITLE VARCHAR(50) NOT NULL,\\n        LONG_TITLE VARCHAR(255) NOT NULL,\\n        CONSTRAINT d_icd_diag_code_unique UNIQUE (ICD9_CODE),\\n        CONSTRAINT d_icd_diag_rowid_pk PRIMARY KEY (ROW_ID)\\n    )')\n",
      "('index', 'sqlite_autoindex_D_ICD_DIAGNOSES_1', 'D_ICD_DIAGNOSES', 13, None)\n",
      "('index', 'sqlite_autoindex_D_ICD_DIAGNOSES_2', 'D_ICD_DIAGNOSES', 14, None)\n",
      "('table', 'NOTEEVENTS', 'NOTEEVENTS', 15, 'CREATE TABLE NOTEEVENTS\\n    (   ROW_ID INT NOT NULL,\\n        SUBJECT_ID INT NOT NULL,\\n        HADM_ID INT,\\n        CHARTDATE TIMESTAMP(0),\\n        CHARTTIME TIMESTAMP(0),\\n        STORETIME TIMESTAMP(0),\\n        CATEGORY VARCHAR(50),\\n        DESCRIPTION VARCHAR(255),\\n        CGID INT,\\n        ISERROR CHAR(1),\\n        TEXT TEXT,\\n        CONSTRAINT noteevents_rowid_pk PRIMARY KEY (ROW_ID)\\n    )')\n",
      "('index', 'sqlite_autoindex_NOTEEVENTS_1', 'NOTEEVENTS', 17, None)\n",
      "('table', 'DRGCODES', 'DRGCODES', 18, 'CREATE TABLE DRGCODES\\n    (   ROW_ID INT NOT NULL,\\n        SUBJECT_ID INT NOT NULL,\\n        HADM_ID INT NOT NULL,\\n        DRG_TYPE VARCHAR(20) NOT NULL,\\n        DRG_CODE VARCHAR(20) NOT NULL,\\n        DESCRIPTION VARCHAR(255),\\n        DRG_SEVERITY SMALLINT,\\n        DRG_MORTALITY SMALLINT,\\n        CONSTRAINT drg_rowid_pk PRIMARY KEY (ROW_ID)\\n    )')\n",
      "('index', 'sqlite_autoindex_DRGCODES_1', 'DRGCODES', 19, None)\n",
      "('table', 'D_CPT', 'D_CPT', 20, 'CREATE TABLE D_CPT\\n    (   ROW_ID INT NOT NULL,\\n        CATEGORY SMALLINT NOT NULL,\\n        SECTIONRANGE VARCHAR(100) NOT NULL,\\n        SECTIONHEADER VARCHAR(50) NOT NULL,\\n        SUBSECTIONRANGE VARCHAR(100) NOT NULL,\\n        SUBSECTIONHEADER VARCHAR(255) NOT NULL,\\n        CODESUFFIX VARCHAR(5),\\n        MINCODEINSUBSECTION INT NOT NULL,\\n        MAXCODEINSUBSECTION INT NOT NULL,\\n        CONSTRAINT dcpt_ssrange_unique UNIQUE (SUBSECTIONRANGE),\\n        CONSTRAINT dcpt_rowid_pk PRIMARY KEY (ROW_ID)\\n    )')\n",
      "('index', 'sqlite_autoindex_D_CPT_1', 'D_CPT', 21, None)\n",
      "('index', 'sqlite_autoindex_D_CPT_2', 'D_CPT', 22, None)\n",
      "('table', 'CPTEVENTS', 'CPTEVENTS', 24, 'CREATE TABLE CPTEVENTS\\n    (   ROW_ID INT NOT NULL,\\n        SUBJECT_ID INT NOT NULL,\\n        HADM_ID INT NOT NULL,\\n        COSTCENTER VARCHAR(10) NOT NULL,\\n        CHARTDATE TIMESTAMP(0),\\n        CPT_CD VARCHAR(10) NOT NULL,\\n        CPT_NUMBER INT,\\n        CPT_SUFFIX VARCHAR(5),\\n        TICKET_ID_SEQ INT,\\n        SECTIONHEADER VARCHAR(50),\\n        SUBSECTIONHEADER VARCHAR(255),\\n        DESCRIPTION VARCHAR(200),\\n        CONSTRAINT cpt_rowid_pk PRIMARY KEY (ROW_ID)\\n    )')\n",
      "('index', 'sqlite_autoindex_CPTEVENTS_1', 'CPTEVENTS', 25, None)\n"
     ]
    }
   ],
   "source": [
    "connection = sqlite3.connect(sqlitedb)\n",
    "with connection:\n",
    "    cursor = connection.cursor()\n",
    "    cursor.execute('select * from sqlite_master')\n",
    "    row = cursor.fetchone()\n",
    "    while row:\n",
    "        print(row)\n",
    "        row = cursor.fetchone()"
   ]
  },
  {
   "cell_type": "code",
   "execution_count": 35,
   "metadata": {
    "collapsed": false
   },
   "outputs": [
    {
     "name": "stdout",
     "output_type": "stream",
     "text": [
      "Columns read from  DIAGNOSES_ICD_DATA_TABLE.csv : ['ROW_ID', 'SUBJECT_ID', 'HADM_ID', 'SEQ_NUM', 'ICD9_CODE']\n",
      "Loading to  DIAGNOSES_ICD\n",
      "Columns read from  D_ICD_PROCEDURES_DATA_TABLE.csv : ['ROW_ID', 'ICD9_CODE', 'SHORT_TITLE', 'LONG_TITLE']\n",
      "Loading to  D_ICD_PROCEDURES\n",
      "Columns read from  PATIENTS_DATA_TABLE.csv : ['ROW_ID', 'SUBJECT_ID', 'GENDER', 'DOB', 'DOD', 'DOD_HOSP', 'DOD_SSN', 'EXPIRE_FLAG']\n",
      "Loading to  PATIENTS\n",
      "Columns read from  D_ICD_DIAGNOSES_DATA_TABLE.csv : ['ROW_ID', 'ICD9_CODE', 'SHORT_TITLE', 'LONG_TITLE']\n",
      "Loading to  D_ICD_DIAGNOSES\n",
      "Columns read from  NOTEEVENTS_DATA_TABLE.csv : ['ROW_ID', 'SUBJECT_ID', 'HADM_ID', 'CHARTDATE', 'CHARTTIME', 'STORETIME', 'CATEGORY', 'DESCRIPTION', 'CGID', 'ISERROR', 'TEXT']\n",
      "Loading to  NOTEEVENTS\n",
      "Columns read from  DRGCODES_DATA_TABLE.csv : ['ROW_ID', 'SUBJECT_ID', 'HADM_ID', 'DRG_TYPE', 'DRG_CODE', 'DESCRIPTION', 'DRG_SEVERITY', 'DRG_MORTALITY']\n",
      "Loading to  DRGCODES\n",
      "Columns read from  D_CPT_DATA_TABLE.csv : ['ROW_ID', 'CATEGORY', 'SECTIONRANGE', 'SECTIONHEADER', 'SUBSECTIONRANGE', 'SUBSECTIONHEADER', 'CODESUFFIX', 'MINCODEINSUBSECTION', 'MAXCODEINSUBSECTION']\n",
      "Loading to  D_CPT\n",
      "Columns read from  CPTEVENTS_DATA_TABLE.csv : ['ROW_ID', 'SUBJECT_ID', 'HADM_ID', 'COSTCENTER', 'CHARTDATE', 'CPT_CD', 'CPT_NUMBER', 'CPT_SUFFIX', 'TICKET_ID_SEQ', 'SECTIONHEADER', 'SUBSECTIONHEADER', 'DESCRIPTION']\n",
      "Loading to  CPTEVENTS\n"
     ]
    }
   ],
   "source": [
    "for mf in mimic_files:\n",
    "    file = os.path.join(os.path.expanduser('~'), 'Box Sync', 'GradSchoolStuff', 'MastersProject', 'mimic3', mf)\n",
    "\n",
    "    if not (os.path.exists(file)):\n",
    "        print(\"Specified file does not exist\")\n",
    "        sys.exit()\n",
    "\n",
    "    csvReader = csv.reader(open(file, newline=''))\n",
    "    header = next(csvReader)\n",
    "    print('Columns read from ', mf, ':', header)\n",
    "\n",
    "    table_name = mf.replace('_DATA_TABLE.csv', '')\n",
    "    print('Loading to ', table_name)\n",
    "    \n",
    "    value_placeholder = ('?,'*len(header))[:-1]\n",
    "    \n",
    "    ## load each line from CSV into appropriate table\n",
    "    connection = sqlite3.connect(sqlitedb)\n",
    "    with connection:\n",
    "        for row in csvReader:\n",
    "            cursor = connection.cursor()\n",
    "            cursor.execute('insert into ' + table_name + ' values (' + value_placeholder + ')', row)"
   ]
  },
  {
   "cell_type": "code",
   "execution_count": 36,
   "metadata": {
    "collapsed": true
   },
   "outputs": [],
   "source": [
    "# now that all the tables are created and data loaded - create indexes\n",
    "# Got these indexes from \n",
    "#    https://github.com/MIT-LCP/mimic-code/blob/master/buildmimic/postgres/postgres_add_indexes.sql\n",
    "connection = sqlite3.connect(sqlitedb)\n",
    "with connection:\n",
    "    cursor = connection.cursor()\n",
    "    cursor.executescript('''\n",
    "    drop index IF EXISTS NOTEEVENTS_idx01;\n",
    "    CREATE INDEX NOTEEVENTS_idx01\n",
    "        ON NOTEEVENTS (SUBJECT_ID);\n",
    "    drop index IF EXISTS NOTEEVENTS_idx02;\n",
    "    CREATE INDEX NOTEEVENTS_idx02\n",
    "        ON NOTEEVENTS (HADM_ID);\n",
    "    drop index IF EXISTS NOTEEVENTS_idx05;\n",
    "    CREATE INDEX NOTEEVENTS_idx05\n",
    "        ON NOTEEVENTS (CATEGORY);\n",
    "    \n",
    "    drop index IF EXISTS DIAGNOSES_ICD_idx01;\n",
    "    CREATE INDEX DIAGNOSES_ICD_idx01\n",
    "        ON DIAGNOSES_ICD (SUBJECT_ID);\n",
    "    drop index IF EXISTS DIAGNOSES_ICD_idx02;\n",
    "    CREATE INDEX DIAGNOSES_ICD_idx02\n",
    "        ON DIAGNOSES_ICD (ICD9_CODE);\n",
    "    drop index IF EXISTS DIAGNOSES_ICD_idx03;\n",
    "    CREATE INDEX DIAGNOSES_ICD_idx03\n",
    "        ON DIAGNOSES_ICD (HADM_ID);\n",
    "        \n",
    "    drop index IF EXISTS CPTEVENTS_idx01;\n",
    "    CREATE INDEX CPTEVENTS_idx01\n",
    "        ON CPTEVENTS (SUBJECT_ID);\n",
    "    drop index IF EXISTS CPTEVENTS_idx02;\n",
    "    CREATE INDEX CPTEVENTS_idx02\n",
    "        ON CPTEVENTS (CPT_CD);\n",
    "        \n",
    "    drop index IF EXISTS DRGCODES_idx01;\n",
    "    CREATE INDEX DRGCODES_idx01\n",
    "        ON DRGCODES (SUBJECT_ID);\n",
    "    drop index IF EXISTS DRGCODES_idx02;\n",
    "    CREATE INDEX DRGCODES_idx02\n",
    "        ON DRGCODES (DRG_CODE);\n",
    "    drop index IF EXISTS DRGCODES_idx03;\n",
    "    CREATE INDEX DRGCODES_idx03\n",
    "        ON DRGCODES (DESCRIPTION);\n",
    "    ''')"
   ]
  },
  {
   "cell_type": "code",
   "execution_count": null,
   "metadata": {
    "collapsed": true
   },
   "outputs": [],
   "source": []
  }
 ],
 "metadata": {
  "kernelspec": {
   "display_name": "Python 3",
   "language": "python",
   "name": "python3"
  },
  "language_info": {
   "codemirror_mode": {
    "name": "ipython",
    "version": 3
   },
   "file_extension": ".py",
   "mimetype": "text/x-python",
   "name": "python",
   "nbconvert_exporter": "python",
   "pygments_lexer": "ipython3",
   "version": "3.5.1"
  }
 },
 "nbformat": 4,
 "nbformat_minor": 0
}
