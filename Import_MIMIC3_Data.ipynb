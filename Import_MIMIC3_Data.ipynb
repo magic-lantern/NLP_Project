{
 "cells": [
  {
   "cell_type": "code",
   "execution_count": 46,
   "metadata": {
    "collapsed": false
   },
   "outputs": [
    {
     "name": "stdout",
     "output_type": "stream",
     "text": [
      "Columns read from  DIAGNOSES_ICD_DATA_TABLE.csv : ['ROW_ID', 'SUBJECT_ID', 'HADM_ID', 'SEQ_NUM', 'ICD9_CODE']\n",
      "Loading to  DIAGNOSES_ICD\n",
      "Columns read from  D_ICD_PROCEDURES_DATA_TABLE.csv : ['ROW_ID', 'ICD9_CODE', 'SHORT_TITLE', 'LONG_TITLE']\n",
      "Loading to  D_ICD_PROCEDURES\n",
      "Columns read from  PATIENTS_DATA_TABLE.csv : ['ROW_ID', 'SUBJECT_ID', 'GENDER', 'DOB', 'DOD', 'DOD_HOSP', 'DOD_SSN', 'EXPIRE_FLAG']\n",
      "Loading to  PATIENTS\n",
      "Columns read from  D_ICD_DIAGNOSES_DATA_TABLE.csv : ['ROW_ID', 'ICD9_CODE', 'SHORT_TITLE', 'LONG_TITLE']\n",
      "Loading to  D_ICD_DIAGNOSES\n",
      "Columns read from  NOTEEVENTS_DATA_TABLE.csv : ['ROW_ID', 'SUBJECT_ID', 'HADM_ID', 'CHARTDATE', 'CHARTTIME', 'STORETIME', 'CATEGORY', 'DESCRIPTION', 'CGID', 'ISERROR', 'TEXT']\n",
      "Loading to  NOTEEVENTS\n"
     ]
    }
   ],
   "source": [
    "import csv\n",
    "import os\n",
    "import sys\n",
    "import sqlite3\n",
    "\n",
    "\n",
    "# the files to read\n",
    "mimic_files = ('DIAGNOSES_ICD_DATA_TABLE.csv',\n",
    "               'D_ICD_PROCEDURES_DATA_TABLE.csv',\n",
    "               'PATIENTS_DATA_TABLE.csv',\n",
    "               'D_ICD_DIAGNOSES_DATA_TABLE.csv', \n",
    "               'NOTEEVENTS_DATA_TABLE.csv')\n",
    "\n",
    "for mf in mimic_files:\n",
    "    file = os.path.join(os.path.expanduser('~'), 'Box Sync', 'GradSchoolStuff', 'MastersProject', 'mimic3', mf)\n",
    "\n",
    "    if not (os.path.exists(file)):\n",
    "        print(\"Specified file does not exist\")\n",
    "        sys.exit()\n",
    "\n",
    "    #spamReader = csv.reader(open('eggs.csv', newline=''), delimiter=' ', quotechar='|')\n",
    "    csvReader = csv.reader(open(file, newline=''))\n",
    "    header = next(csvReader)\n",
    "    print('Columns read from ', mf, ':', header)\n",
    "\n",
    "    table_name = mf.replace('_DATA_TABLE.csv', '')\n",
    "    print('Loading to ', table_name)\n",
    "    \n",
    "    value_placeholder = '' \n",
    "    for c in range(len(header)):\n",
    "        value_placeholder += '?,'\n",
    "    value_placeholder = value_placeholder[:-1]\n",
    "    \n",
    "    # load each line from CSV into appropriate table\n",
    "    connection = sqlite3.connect(sqlitedb)\n",
    "    with connection:\n",
    "        for row in csvReader:\n",
    "            cursor = connection.cursor()\n",
    "            cursor.execute('insert into ' + table_name + ' values (' + value_placeholder + ')', row)"
   ]
  },
  {
   "cell_type": "code",
   "execution_count": 12,
   "metadata": {
    "collapsed": true
   },
   "outputs": [],
   "source": [
    "sqlitedb = os.path.join(os.path.expanduser('~'),'Box Sync', 'GradSchoolStuff', 'MastersProject', 'mimic3', 'mimic3.sqlite')\n",
    "if (os.path.exists(sqlitedb)):\n",
    "    print(\"Database already exists\")\n",
    "    sys.exit()"
   ]
  },
  {
   "cell_type": "code",
   "execution_count": 14,
   "metadata": {
    "collapsed": false
   },
   "outputs": [],
   "source": [
    "# using sql from https://github.com/MIT-LCP/mimic-code/blob/master/buildmimic/postgres/postgres_create_tables.sql\n",
    "connection = sqlite3.connect(sqlitedb)\n",
    "with connection:\n",
    "    cursor = connection.cursor()\n",
    "    cursor.execute('''CREATE TABLE DIAGNOSES_ICD\n",
    "   (\tROW_ID INT NOT NULL,\n",
    "\tSUBJECT_ID INT NOT NULL,\n",
    "\tHADM_ID INT NOT NULL,\n",
    "\tSEQ_NUM INT,\n",
    "\tICD9_CODE VARCHAR(20),\n",
    "\tCONSTRAINT diagnosesicd_rowid_pk PRIMARY KEY (ROW_ID)\n",
    "   )''')\n"
   ]
  },
  {
   "cell_type": "code",
   "execution_count": 17,
   "metadata": {
    "collapsed": false
   },
   "outputs": [],
   "source": [
    "connection = sqlite3.connect(sqlitedb)\n",
    "with connection:\n",
    "    cursor = connection.cursor()\n",
    "    cursor.execute('''CREATE TABLE D_ICD_PROCEDURES\n",
    "   (\tROW_ID INT NOT NULL,\n",
    "\tICD9_CODE VARCHAR(10) NOT NULL,\n",
    "\tSHORT_TITLE VARCHAR(50) NOT NULL,\n",
    "\tLONG_TITLE VARCHAR(255) NOT NULL,\n",
    "    \tCONSTRAINT d_icd_proc_code_unique UNIQUE (ICD9_CODE),\n",
    "    \tCONSTRAINT d_icd_proc_rowid_pk PRIMARY KEY (ROW_ID)\n",
    "   )''')"
   ]
  },
  {
   "cell_type": "code",
   "execution_count": 19,
   "metadata": {
    "collapsed": true
   },
   "outputs": [],
   "source": [
    "connection = sqlite3.connect(sqlitedb)\n",
    "with connection:\n",
    "    cursor = connection.cursor()\n",
    "    cursor.execute('''CREATE TABLE PATIENTS\n",
    "   (\tROW_ID INT NOT NULL,\n",
    "\tSUBJECT_ID INT NOT NULL,\n",
    "\tGENDER VARCHAR(5) NOT NULL,\n",
    "\tDOB TIMESTAMP(0) NOT NULL,\n",
    "\tDOD TIMESTAMP(0),\n",
    "\tDOD_HOSP TIMESTAMP(0),\n",
    "\tDOD_SSN TIMESTAMP(0),\n",
    "\tEXPIRE_FLAG INT NOT NULL,\n",
    "    \tCONSTRAINT pat_subid_unique UNIQUE (SUBJECT_ID),\n",
    "    \tCONSTRAINT pat_rowid_pk PRIMARY KEY (ROW_ID)\n",
    "   )''')"
   ]
  },
  {
   "cell_type": "code",
   "execution_count": 20,
   "metadata": {
    "collapsed": true
   },
   "outputs": [],
   "source": [
    "connection = sqlite3.connect(sqlitedb)\n",
    "with connection:\n",
    "    cursor = connection.cursor()\n",
    "    cursor.execute('''CREATE TABLE D_ICD_DIAGNOSES\n",
    "   (\tROW_ID INT NOT NULL,\n",
    "\tICD9_CODE VARCHAR(10) NOT NULL,\n",
    "\tSHORT_TITLE VARCHAR(50) NOT NULL,\n",
    "\tLONG_TITLE VARCHAR(255) NOT NULL,\n",
    "    \tCONSTRAINT d_icd_diag_code_unique UNIQUE (ICD9_CODE),\n",
    "    \tCONSTRAINT d_icd_diag_rowid_pk PRIMARY KEY (ROW_ID)\n",
    "   )''')"
   ]
  },
  {
   "cell_type": "code",
   "execution_count": 21,
   "metadata": {
    "collapsed": true
   },
   "outputs": [],
   "source": [
    "connection = sqlite3.connect(sqlitedb)\n",
    "with connection:\n",
    "    cursor = connection.cursor()\n",
    "    cursor.execute('''CREATE TABLE NOTEEVENTS\n",
    "   (\tROW_ID INT NOT NULL,\n",
    "\tSUBJECT_ID INT NOT NULL,\n",
    "\tHADM_ID INT,\n",
    "\tCHARTDATE TIMESTAMP(0),\n",
    "\tCHARTTIME TIMESTAMP(0),\n",
    "\tSTORETIME TIMESTAMP(0),\n",
    "\tCATEGORY VARCHAR(50),\n",
    "\tDESCRIPTION VARCHAR(255),\n",
    "\tCGID INT,\n",
    "\tISERROR CHAR(1),\n",
    "\tTEXT TEXT,\n",
    "\tCONSTRAINT noteevents_rowid_pk PRIMARY KEY (ROW_ID)\n",
    "   )''')"
   ]
  },
  {
   "cell_type": "code",
   "execution_count": 22,
   "metadata": {
    "collapsed": false
   },
   "outputs": [
    {
     "name": "stdout",
     "output_type": "stream",
     "text": [
      "('table', 'DIAGNOSES_ICD', 'DIAGNOSES_ICD', 2, 'CREATE TABLE DIAGNOSES_ICD\\n   (\\tROW_ID INT NOT NULL,\\n\\tSUBJECT_ID INT NOT NULL,\\n\\tHADM_ID INT NOT NULL,\\n\\tSEQ_NUM INT,\\n\\tICD9_CODE VARCHAR(20),\\n\\tCONSTRAINT diagnosesicd_rowid_pk PRIMARY KEY (ROW_ID)\\n   )')\n",
      "('index', 'sqlite_autoindex_DIAGNOSES_ICD_1', 'DIAGNOSES_ICD', 3, None)\n",
      "('table', 'D_ICD_PROCEDURES', 'D_ICD_PROCEDURES', 4, 'CREATE TABLE D_ICD_PROCEDURES\\n   (\\tROW_ID INT NOT NULL,\\n\\tICD9_CODE VARCHAR(10) NOT NULL,\\n\\tSHORT_TITLE VARCHAR(50) NOT NULL,\\n\\tLONG_TITLE VARCHAR(255) NOT NULL,\\n    \\tCONSTRAINT d_icd_proc_code_unique UNIQUE (ICD9_CODE),\\n    \\tCONSTRAINT d_icd_proc_rowid_pk PRIMARY KEY (ROW_ID)\\n   )')\n",
      "('index', 'sqlite_autoindex_D_ICD_PROCEDURES_1', 'D_ICD_PROCEDURES', 5, None)\n",
      "('index', 'sqlite_autoindex_D_ICD_PROCEDURES_2', 'D_ICD_PROCEDURES', 6, None)\n",
      "('table', 'PATIENTS', 'PATIENTS', 7, 'CREATE TABLE PATIENTS\\n   (\\tROW_ID INT NOT NULL,\\n\\tSUBJECT_ID INT NOT NULL,\\n\\tGENDER VARCHAR(5) NOT NULL,\\n\\tDOB TIMESTAMP(0) NOT NULL,\\n\\tDOD TIMESTAMP(0),\\n\\tDOD_HOSP TIMESTAMP(0),\\n\\tDOD_SSN TIMESTAMP(0),\\n\\tEXPIRE_FLAG INT NOT NULL,\\n    \\tCONSTRAINT pat_subid_unique UNIQUE (SUBJECT_ID),\\n    \\tCONSTRAINT pat_rowid_pk PRIMARY KEY (ROW_ID)\\n   )')\n",
      "('index', 'sqlite_autoindex_PATIENTS_1', 'PATIENTS', 8, None)\n",
      "('index', 'sqlite_autoindex_PATIENTS_2', 'PATIENTS', 9, None)\n",
      "('table', 'D_ICD_DIAGNOSES', 'D_ICD_DIAGNOSES', 12, 'CREATE TABLE D_ICD_DIAGNOSES\\n   (\\tROW_ID INT NOT NULL,\\n\\tICD9_CODE VARCHAR(10) NOT NULL,\\n\\tSHORT_TITLE VARCHAR(50) NOT NULL,\\n\\tLONG_TITLE VARCHAR(255) NOT NULL,\\n    \\tCONSTRAINT d_icd_diag_code_unique UNIQUE (ICD9_CODE),\\n    \\tCONSTRAINT d_icd_diag_rowid_pk PRIMARY KEY (ROW_ID)\\n   )')\n",
      "('index', 'sqlite_autoindex_D_ICD_DIAGNOSES_1', 'D_ICD_DIAGNOSES', 13, None)\n",
      "('index', 'sqlite_autoindex_D_ICD_DIAGNOSES_2', 'D_ICD_DIAGNOSES', 14, None)\n",
      "('table', 'NOTEEVENTS', 'NOTEEVENTS', 15, 'CREATE TABLE NOTEEVENTS\\n   (\\tROW_ID INT NOT NULL,\\n\\tSUBJECT_ID INT NOT NULL,\\n\\tHADM_ID INT,\\n\\tCHARTDATE TIMESTAMP(0),\\n\\tCHARTTIME TIMESTAMP(0),\\n\\tSTORETIME TIMESTAMP(0),\\n\\tCATEGORY VARCHAR(50),\\n\\tDESCRIPTION VARCHAR(255),\\n\\tCGID INT,\\n\\tISERROR CHAR(1),\\n\\tTEXT TEXT,\\n\\tCONSTRAINT noteevents_rowid_pk PRIMARY KEY (ROW_ID)\\n   )')\n",
      "('index', 'sqlite_autoindex_NOTEEVENTS_1', 'NOTEEVENTS', 16, None)\n"
     ]
    }
   ],
   "source": [
    "connection = sqlite3.connect(sqlitedb)\n",
    "with connection:\n",
    "    cursor = connection.cursor()\n",
    "    cursor.execute('select * from sqlite_master')\n",
    "    row = cursor.fetchone()\n",
    "    while row:\n",
    "        print(row)\n",
    "        row = cursor.fetchone()"
   ]
  },
  {
   "cell_type": "code",
   "execution_count": null,
   "metadata": {
    "collapsed": true
   },
   "outputs": [],
   "source": []
  }
 ],
 "metadata": {
  "kernelspec": {
   "display_name": "Python 3",
   "language": "python",
   "name": "python3"
  },
  "language_info": {
   "codemirror_mode": {
    "name": "ipython",
    "version": 3
   },
   "file_extension": ".py",
   "mimetype": "text/x-python",
   "name": "python",
   "nbconvert_exporter": "python",
   "pygments_lexer": "ipython3",
   "version": "3.5.1"
  }
 },
 "nbformat": 4,
 "nbformat_minor": 0
}
